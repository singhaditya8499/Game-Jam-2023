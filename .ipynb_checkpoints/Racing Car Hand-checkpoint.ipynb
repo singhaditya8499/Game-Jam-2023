{
 "cells": [
  {
   "cell_type": "code",
   "execution_count": 6,
   "metadata": {},
   "outputs": [
    {
     "data": {
      "text/plain": [
       "(5, 0)"
      ]
     },
     "execution_count": 6,
     "metadata": {},
     "output_type": "execute_result"
    }
   ],
   "source": [
    "import pygame\n",
    "import time\n",
    "import random\n",
    "import cv2\n",
    "import imutils\n",
    "import numpy as np\n",
    "# from sklearn.metrics import pairwise\n",
    "import random\n",
    "\n",
    "bg = None\n",
    "pygame.init()"
   ]
  },
  {
   "cell_type": "code",
   "execution_count": 7,
   "metadata": {},
   "outputs": [
    {
     "data": {
      "text/plain": [
       "0"
      ]
     },
     "execution_count": 7,
     "metadata": {},
     "output_type": "execute_result"
    }
   ],
   "source": [
    "num = random.randrange(3)\n",
    "num"
   ]
  },
  {
   "cell_type": "code",
   "execution_count": 8,
   "metadata": {},
   "outputs": [],
   "source": [
    "display_width=800\n",
    "display_height=600\n",
    "game_display=pygame.display.set_mode((display_width,display_height))\n",
    "pygame.display.set_caption('Earth Day 2023')\n",
    "black=(0,0,0)\n",
    "white=(255,255,255)\n",
    "green=(0,150,0)\n",
    "red=(150,0,0)\n",
    "b_green=(0,255,0)\n",
    "b_red=(255,0,0)\n",
    "blue=(0,0,255)\n",
    "earth_blue=(40,122,184)\n",
    "clock=pygame.time.Clock()\n",
    "carimg=pygame.image.load('./earth.png')\n",
    "astroid=pygame.image.load('./astroid.png')"
   ]
  },
  {
   "cell_type": "code",
   "execution_count": 9,
   "metadata": {},
   "outputs": [],
   "source": [
    "def things_dodged(dodged):\n",
    "    font=pygame.font.SysFont(None,25)\n",
    "    text=font.render(\"Dodged: \"+str(dodged),True,white)\n",
    "    game_display.blit(text,(0,0))\n",
    "def car(x,y):\n",
    "    game_display.blit(carimg,(x,y))\n",
    "    \n",
    "def things(tx,ty,tw,th,color):\n",
    "    game_display.blit(astroid,(tx,ty))\n",
    "    \n",
    "def text_objects(text,fonts,color=black):\n",
    "    text_surface=fonts.render(text,True,color)\n",
    "    return text_surface,text_surface.get_rect()\n",
    "\n",
    "def message_display(text):\n",
    "    font=pygame.font.Font('freesansbold.ttf',20)\n",
    "    textsurf,textrect=text_objects(text,font,white)\n",
    "    textrect.center=((display_width/2,display_height/2))\n",
    "    game_display.blit(textsurf,textrect)\n",
    "    pygame.display.update()\n",
    "    time.sleep(2)\n",
    "    intro()"
   ]
  },
  {
   "cell_type": "code",
   "execution_count": 10,
   "metadata": {},
   "outputs": [],
   "source": [
    "def intro():\n",
    "    introo=True\n",
    "    while introo:\n",
    "        for event in pygame.event.get():\n",
    "            #print event\n",
    "            if event.type==pygame.QUIT:\n",
    "                pygame.quit()\n",
    "                quit()\n",
    "        game_display.fill((255,255,255))\n",
    "        heading=pygame.font.Font('freesansbold.ttf',60)\n",
    "        textsurf,textrec=text_objects(\"Earth goes wooshh..\",heading)\n",
    "        textrec.center=((display_width/2,display_height/2))\n",
    "        game_display.blit(textsurf,textrec)\n",
    "        mouse=pygame.mouse.get_pos()\n",
    "        click=pygame.mouse.get_pressed()\n",
    "#         print(click)\n",
    "        if 150+100>mouse[0]>150 and 450+50>mouse[1]>450:\n",
    "            pygame.draw.rect(game_display, green,(150,450,100,50))\n",
    "            if click[0]==1:\n",
    "                games()\n",
    "        else:\n",
    "            pygame.draw.rect(game_display, b_green,(150,450,100,50))\n",
    "            \n",
    "        if 550+100>mouse[0]>550 and 450+50>mouse[1]>450:\n",
    "            pygame.draw.rect(game_display, red,(550,450,100,50))\n",
    "            if click[0]==1:\n",
    "                pygame.quit()\n",
    "                quit()\n",
    "        else:\n",
    "            pygame.draw.rect(game_display, b_red,(550,450,100,50))\n",
    "            \n",
    "        menu_text=pygame.font.Font('freesansbold.ttf',20)\n",
    "        textsurf,textrec=text_objects(\"Go!!\",menu_text)\n",
    "        textrec.center=((150+100/2,450+50/2))\n",
    "        game_display.blit(textsurf,textrec)\n",
    "        textsurf,textrec=text_objects(\"Quit\",menu_text)\n",
    "        textrec.center=((550+100/2,450+50/2))\n",
    "        game_display.blit(textsurf,textrec)\n",
    "        pygame.display.update()\n",
    "        clock.tick(15)"
   ]
  },
  {
   "cell_type": "code",
   "execution_count": 11,
   "metadata": {},
   "outputs": [
    {
     "ename": "error",
     "evalue": "font not initialized",
     "output_type": "error",
     "traceback": [
      "\u001b[0;31m---------------------------------------------------------------------------\u001b[0m",
      "\u001b[0;31merror\u001b[0m                                     Traceback (most recent call last)",
      "\u001b[0;32m/var/folders/wz/cnwy77v95fz65y4_p_vs2l140000gn/T/ipykernel_26536/1615440269.py\u001b[0m in \u001b[0;36m<module>\u001b[0;34m\u001b[0m\n\u001b[1;32m     48\u001b[0m         \u001b[0mclock\u001b[0m\u001b[0;34m.\u001b[0m\u001b[0mtick\u001b[0m\u001b[0;34m(\u001b[0m\u001b[0;36m60\u001b[0m\u001b[0;34m)\u001b[0m\u001b[0;34m\u001b[0m\u001b[0;34m\u001b[0m\u001b[0m\n\u001b[1;32m     49\u001b[0m \u001b[0;34m\u001b[0m\u001b[0m\n\u001b[0;32m---> 50\u001b[0;31m \u001b[0mintro\u001b[0m\u001b[0;34m(\u001b[0m\u001b[0;34m)\u001b[0m\u001b[0;34m\u001b[0m\u001b[0;34m\u001b[0m\u001b[0m\n\u001b[0m\u001b[1;32m     51\u001b[0m \u001b[0mgames\u001b[0m\u001b[0;34m(\u001b[0m\u001b[0;34m)\u001b[0m\u001b[0;34m\u001b[0m\u001b[0;34m\u001b[0m\u001b[0m\n\u001b[1;32m     52\u001b[0m \u001b[0mpygame\u001b[0m\u001b[0;34m.\u001b[0m\u001b[0mquit\u001b[0m\u001b[0;34m(\u001b[0m\u001b[0;34m)\u001b[0m\u001b[0;34m\u001b[0m\u001b[0;34m\u001b[0m\u001b[0m\n",
      "\u001b[0;32m/var/folders/wz/cnwy77v95fz65y4_p_vs2l140000gn/T/ipykernel_26536/3206913715.py\u001b[0m in \u001b[0;36mintro\u001b[0;34m()\u001b[0m\n\u001b[1;32m     18\u001b[0m             \u001b[0mpygame\u001b[0m\u001b[0;34m.\u001b[0m\u001b[0mdraw\u001b[0m\u001b[0;34m.\u001b[0m\u001b[0mrect\u001b[0m\u001b[0;34m(\u001b[0m\u001b[0mgame_display\u001b[0m\u001b[0;34m,\u001b[0m \u001b[0mgreen\u001b[0m\u001b[0;34m,\u001b[0m\u001b[0;34m(\u001b[0m\u001b[0;36m150\u001b[0m\u001b[0;34m,\u001b[0m\u001b[0;36m450\u001b[0m\u001b[0;34m,\u001b[0m\u001b[0;36m100\u001b[0m\u001b[0;34m,\u001b[0m\u001b[0;36m50\u001b[0m\u001b[0;34m)\u001b[0m\u001b[0;34m)\u001b[0m\u001b[0;34m\u001b[0m\u001b[0;34m\u001b[0m\u001b[0m\n\u001b[1;32m     19\u001b[0m             \u001b[0;32mif\u001b[0m \u001b[0mclick\u001b[0m\u001b[0;34m[\u001b[0m\u001b[0;36m0\u001b[0m\u001b[0;34m]\u001b[0m\u001b[0;34m==\u001b[0m\u001b[0;36m1\u001b[0m\u001b[0;34m:\u001b[0m\u001b[0;34m\u001b[0m\u001b[0;34m\u001b[0m\u001b[0m\n\u001b[0;32m---> 20\u001b[0;31m                 \u001b[0mgames\u001b[0m\u001b[0;34m(\u001b[0m\u001b[0;34m)\u001b[0m\u001b[0;34m\u001b[0m\u001b[0;34m\u001b[0m\u001b[0m\n\u001b[0m\u001b[1;32m     21\u001b[0m         \u001b[0;32melse\u001b[0m\u001b[0;34m:\u001b[0m\u001b[0;34m\u001b[0m\u001b[0;34m\u001b[0m\u001b[0m\n\u001b[1;32m     22\u001b[0m             \u001b[0mpygame\u001b[0m\u001b[0;34m.\u001b[0m\u001b[0mdraw\u001b[0m\u001b[0;34m.\u001b[0m\u001b[0mrect\u001b[0m\u001b[0;34m(\u001b[0m\u001b[0mgame_display\u001b[0m\u001b[0;34m,\u001b[0m \u001b[0mb_green\u001b[0m\u001b[0;34m,\u001b[0m\u001b[0;34m(\u001b[0m\u001b[0;36m150\u001b[0m\u001b[0;34m,\u001b[0m\u001b[0;36m450\u001b[0m\u001b[0;34m,\u001b[0m\u001b[0;36m100\u001b[0m\u001b[0;34m,\u001b[0m\u001b[0;36m50\u001b[0m\u001b[0;34m)\u001b[0m\u001b[0;34m)\u001b[0m\u001b[0;34m\u001b[0m\u001b[0;34m\u001b[0m\u001b[0m\n",
      "\u001b[0;32m/var/folders/wz/cnwy77v95fz65y4_p_vs2l140000gn/T/ipykernel_26536/1615440269.py\u001b[0m in \u001b[0;36mgames\u001b[0;34m()\u001b[0m\n\u001b[1;32m     42\u001b[0m         \u001b[0;32mif\u001b[0m \u001b[0my\u001b[0m\u001b[0;34m<\u001b[0m\u001b[0mt_y\u001b[0m\u001b[0;34m+\u001b[0m\u001b[0mt_h\u001b[0m\u001b[0;34m:\u001b[0m\u001b[0;34m\u001b[0m\u001b[0;34m\u001b[0m\u001b[0m\n\u001b[1;32m     43\u001b[0m             \u001b[0;32mif\u001b[0m \u001b[0mx\u001b[0m\u001b[0;34m>\u001b[0m\u001b[0mt_x\u001b[0m \u001b[0;32mand\u001b[0m \u001b[0mx\u001b[0m\u001b[0;34m<\u001b[0m\u001b[0mt_x\u001b[0m\u001b[0;34m+\u001b[0m\u001b[0mt_w\u001b[0m \u001b[0;32mor\u001b[0m \u001b[0mx\u001b[0m\u001b[0;34m+\u001b[0m\u001b[0;36m20\u001b[0m\u001b[0;34m<\u001b[0m\u001b[0mt_x\u001b[0m\u001b[0;34m+\u001b[0m\u001b[0mt_w\u001b[0m \u001b[0;32mand\u001b[0m \u001b[0mx\u001b[0m\u001b[0;34m+\u001b[0m\u001b[0;36m20\u001b[0m\u001b[0;34m>\u001b[0m\u001b[0mt_x\u001b[0m\u001b[0;34m:\u001b[0m\u001b[0;34m\u001b[0m\u001b[0;34m\u001b[0m\u001b[0m\n\u001b[0;32m---> 44\u001b[0;31m                 \u001b[0mmessage_display\u001b[0m\u001b[0;34m(\u001b[0m\u001b[0;34m'You crashed the earth, good that you can respawn :)'\u001b[0m\u001b[0;34m)\u001b[0m\u001b[0;34m\u001b[0m\u001b[0;34m\u001b[0m\u001b[0m\n\u001b[0m\u001b[1;32m     45\u001b[0m                 \u001b[0mtime\u001b[0m\u001b[0;34m.\u001b[0m\u001b[0msleep\u001b[0m\u001b[0;34m(\u001b[0m\u001b[0;36m10\u001b[0m\u001b[0;34m)\u001b[0m\u001b[0;34m\u001b[0m\u001b[0;34m\u001b[0m\u001b[0m\n\u001b[1;32m     46\u001b[0m \u001b[0;34m\u001b[0m\u001b[0m\n",
      "\u001b[0;32m/var/folders/wz/cnwy77v95fz65y4_p_vs2l140000gn/T/ipykernel_26536/1741504197.py\u001b[0m in \u001b[0;36mmessage_display\u001b[0;34m(text)\u001b[0m\n\u001b[1;32m     20\u001b[0m     \u001b[0mpygame\u001b[0m\u001b[0;34m.\u001b[0m\u001b[0mdisplay\u001b[0m\u001b[0;34m.\u001b[0m\u001b[0mupdate\u001b[0m\u001b[0;34m(\u001b[0m\u001b[0;34m)\u001b[0m\u001b[0;34m\u001b[0m\u001b[0;34m\u001b[0m\u001b[0m\n\u001b[1;32m     21\u001b[0m     \u001b[0mtime\u001b[0m\u001b[0;34m.\u001b[0m\u001b[0msleep\u001b[0m\u001b[0;34m(\u001b[0m\u001b[0;36m2\u001b[0m\u001b[0;34m)\u001b[0m\u001b[0;34m\u001b[0m\u001b[0;34m\u001b[0m\u001b[0m\n\u001b[0;32m---> 22\u001b[0;31m     \u001b[0mintro\u001b[0m\u001b[0;34m(\u001b[0m\u001b[0;34m)\u001b[0m\u001b[0;34m\u001b[0m\u001b[0;34m\u001b[0m\u001b[0m\n\u001b[0m",
      "\u001b[0;32m/var/folders/wz/cnwy77v95fz65y4_p_vs2l140000gn/T/ipykernel_26536/3206913715.py\u001b[0m in \u001b[0;36mintro\u001b[0;34m()\u001b[0m\n\u001b[1;32m     30\u001b[0m             \u001b[0mpygame\u001b[0m\u001b[0;34m.\u001b[0m\u001b[0mdraw\u001b[0m\u001b[0;34m.\u001b[0m\u001b[0mrect\u001b[0m\u001b[0;34m(\u001b[0m\u001b[0mgame_display\u001b[0m\u001b[0;34m,\u001b[0m \u001b[0mb_red\u001b[0m\u001b[0;34m,\u001b[0m\u001b[0;34m(\u001b[0m\u001b[0;36m550\u001b[0m\u001b[0;34m,\u001b[0m\u001b[0;36m450\u001b[0m\u001b[0;34m,\u001b[0m\u001b[0;36m100\u001b[0m\u001b[0;34m,\u001b[0m\u001b[0;36m50\u001b[0m\u001b[0;34m)\u001b[0m\u001b[0;34m)\u001b[0m\u001b[0;34m\u001b[0m\u001b[0;34m\u001b[0m\u001b[0m\n\u001b[1;32m     31\u001b[0m \u001b[0;34m\u001b[0m\u001b[0m\n\u001b[0;32m---> 32\u001b[0;31m         \u001b[0mmenu_text\u001b[0m\u001b[0;34m=\u001b[0m\u001b[0mpygame\u001b[0m\u001b[0;34m.\u001b[0m\u001b[0mfont\u001b[0m\u001b[0;34m.\u001b[0m\u001b[0mFont\u001b[0m\u001b[0;34m(\u001b[0m\u001b[0;34m'freesansbold.ttf'\u001b[0m\u001b[0;34m,\u001b[0m\u001b[0;36m20\u001b[0m\u001b[0;34m)\u001b[0m\u001b[0;34m\u001b[0m\u001b[0;34m\u001b[0m\u001b[0m\n\u001b[0m\u001b[1;32m     33\u001b[0m         \u001b[0mtextsurf\u001b[0m\u001b[0;34m,\u001b[0m\u001b[0mtextrec\u001b[0m\u001b[0;34m=\u001b[0m\u001b[0mtext_objects\u001b[0m\u001b[0;34m(\u001b[0m\u001b[0;34m\"Go!!\"\u001b[0m\u001b[0;34m,\u001b[0m\u001b[0mmenu_text\u001b[0m\u001b[0;34m)\u001b[0m\u001b[0;34m\u001b[0m\u001b[0;34m\u001b[0m\u001b[0m\n\u001b[1;32m     34\u001b[0m         \u001b[0mtextrec\u001b[0m\u001b[0;34m.\u001b[0m\u001b[0mcenter\u001b[0m\u001b[0;34m=\u001b[0m\u001b[0;34m(\u001b[0m\u001b[0;34m(\u001b[0m\u001b[0;36m150\u001b[0m\u001b[0;34m+\u001b[0m\u001b[0;36m100\u001b[0m\u001b[0;34m/\u001b[0m\u001b[0;36m2\u001b[0m\u001b[0;34m,\u001b[0m\u001b[0;36m450\u001b[0m\u001b[0;34m+\u001b[0m\u001b[0;36m50\u001b[0m\u001b[0;34m/\u001b[0m\u001b[0;36m2\u001b[0m\u001b[0;34m)\u001b[0m\u001b[0;34m)\u001b[0m\u001b[0;34m\u001b[0m\u001b[0;34m\u001b[0m\u001b[0m\n",
      "\u001b[0;31merror\u001b[0m: font not initialized"
     ]
    }
   ],
   "source": [
    "def games():\n",
    "    crashed=False\n",
    "    dodged=0\n",
    "    x=display_width*.45\n",
    "    y=display_height*.80\n",
    "    t_x=random.randrange(0,display_width)\n",
    "    t_y=-100\n",
    "    t_h=38\n",
    "    t_w=60\n",
    "    t_sp=4\n",
    "    i=0\n",
    "    while not crashed:\n",
    "        for event in pygame.event.get():\n",
    "            if event.type==pygame.QUIT:\n",
    "                crashed=True\n",
    "\n",
    "            if event.type==pygame.KEYDOWN:\n",
    "                if event.key==pygame.K_LEFT:\n",
    "                    i=-9\n",
    "                if event.key==pygame.K_RIGHT:\n",
    "                    i=9\n",
    "            if event.type==pygame.KEYUP:\n",
    "                if event.key==pygame.K_LEFT or event.key==pygame.K_RIGHT:\n",
    "                    i=0\n",
    "        game_display.fill(black)\n",
    "        things(t_x,t_y,t_w,t_h,white)\n",
    "        t_y=t_y+t_sp\n",
    "        x=x+i\n",
    "        car(x,y)\n",
    "        things_dodged(dodged)\n",
    "        if x>display_width-90 or x<0:\n",
    "            message_display('Dont leave the space, literally!!')\n",
    "            time.sleep(10)\n",
    "\n",
    "        if t_y>display_height:\n",
    "            t_y=-100\n",
    "            t_x=random.randrange(0,display_width)\n",
    "            t_sp+=0.8\n",
    "            dodged+=1\n",
    "            #t_w=t_w+(1.08*dodged)\n",
    "\n",
    "        if y<t_y+t_h:\n",
    "            if x>t_x and x<t_x+t_w or x+20<t_x+t_w and x+20>t_x:\n",
    "                message_display('You crashed the earth, good that you can respawn :)')\n",
    "                time.sleep(10)\n",
    "\n",
    "        pygame.display.update()\n",
    "        clock.tick(60)\n",
    "\n",
    "intro()\n",
    "games()\n",
    "pygame.quit()\n",
    "quit()"
   ]
  },
  {
   "cell_type": "code",
   "execution_count": 1,
   "metadata": {},
   "outputs": [
    {
     "ename": "NameError",
     "evalue": "name 'pygame' is not defined",
     "output_type": "error",
     "traceback": [
      "\u001b[0;31m---------------------------------------------------------------------------\u001b[0m",
      "\u001b[0;31mNameError\u001b[0m                                 Traceback (most recent call last)",
      "\u001b[0;32m/var/folders/wz/cnwy77v95fz65y4_p_vs2l140000gn/T/ipykernel_25735/619668710.py\u001b[0m in \u001b[0;36m<module>\u001b[0;34m\u001b[0m\n\u001b[0;32m----> 1\u001b[0;31m \u001b[0mpygame\u001b[0m\u001b[0;34m.\u001b[0m\u001b[0mquit\u001b[0m\u001b[0;34m(\u001b[0m\u001b[0;34m)\u001b[0m\u001b[0;34m\u001b[0m\u001b[0;34m\u001b[0m\u001b[0m\n\u001b[0m\u001b[1;32m      2\u001b[0m \u001b[0mquit\u001b[0m\u001b[0;34m(\u001b[0m\u001b[0;34m)\u001b[0m\u001b[0;34m\u001b[0m\u001b[0;34m\u001b[0m\u001b[0m\n",
      "\u001b[0;31mNameError\u001b[0m: name 'pygame' is not defined"
     ]
    }
   ],
   "source": [
    "pygame.quit()\n",
    "quit()"
   ]
  },
  {
   "cell_type": "code",
   "execution_count": null,
   "metadata": {},
   "outputs": [],
   "source": []
  }
 ],
 "metadata": {
  "kernelspec": {
   "display_name": "Python 3 (ipykernel)",
   "language": "python",
   "name": "python3"
  },
  "language_info": {
   "codemirror_mode": {
    "name": "ipython",
    "version": 3
   },
   "file_extension": ".py",
   "mimetype": "text/x-python",
   "name": "python",
   "nbconvert_exporter": "python",
   "pygments_lexer": "ipython3",
   "version": "3.9.7"
  }
 },
 "nbformat": 4,
 "nbformat_minor": 2
}
